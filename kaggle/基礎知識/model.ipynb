{
 "cells": [
  {
   "cell_type": "code",
   "execution_count": 2,
   "metadata": {},
   "outputs": [
    {
     "name": "stdout",
     "output_type": "stream",
     "text": [
      "テストデータ : [[0, 0], [1, 0], [0, 1], [1, 1]], 予測ラベル : [0 1 1 0]\n",
      "正解率 = 1.0\n"
     ]
    }
   ],
   "source": [
    "# Scikit-learn\n",
    "\n",
    "# 学習の流れ\n",
    "# 1. Scikit-learnをインポート\n",
    "from sklearn import svm\n",
    "from sklearn.metrics import accuracy_score\n",
    "# 2. 学習データとラベルを準備、テストデータを準備\n",
    "train_data = [[0, 0], [1, 0], [0, 1], [1, 1]]\n",
    "train_label = [0, 1, 1, 0]\n",
    "test_data = [[0, 0],[1, 0], [0, 1], [1, 1]]\n",
    "# 3. アルゴリズムの指定と学習\n",
    "clf = svm.SVC(C = 10, gamma = 0.1)\n",
    "clf.fit(train_data, train_label)\n",
    "# 4. テスト\n",
    "test_label = clf.predict(test_data)\n",
    "# 5. テスト結果の表示\n",
    "print(\"テストデータ : {0}, 予測ラベル : {1}\".format(test_data, test_label))\n",
    "print(\"正解率 = {}\".format(accuracy_score([0, 1, 1, 0], test_label)))"
   ]
  },
  {
   "cell_type": "code",
   "execution_count": 5,
   "metadata": {},
   "outputs": [
    {
     "ename": "SyntaxError",
     "evalue": "invalid syntax (<ipython-input-5-53214d3c9776>, line 8)",
     "output_type": "error",
     "traceback": [
      "\u001b[0;36m  File \u001b[0;32m\"<ipython-input-5-53214d3c9776>\"\u001b[0;36m, line \u001b[0;32m8\u001b[0m\n\u001b[0;31m    from sklearn.tree.import DecisionTreeClassifier\u001b[0m\n\u001b[0m                      ^\u001b[0m\n\u001b[0;31mSyntaxError\u001b[0m\u001b[0;31m:\u001b[0m invalid syntax\n"
     ]
    }
   ],
   "source": [
    "# 代表的なアルゴリズムのインポートと学習方法\n",
    "\n",
    "# ロジスティック回帰\n",
    "from sklearn.linear_model import LogisticRegression\n",
    "clf = LogisticRegression()\n",
    "\n",
    "# 決定木\n",
    "from sklearn.tree.import DecisionTreeClassifier\n",
    "clf = DecisionTreeClassifier()\n",
    "\n",
    "# ランダムフォレスト\n",
    "from sklearn.ensemble import RandomForestClassifier\n",
    "clf = RandomForestClassifier()\n",
    "\n",
    "# 勾配ブースティング決定木\n",
    "from sklearn.ensemble import GradientBoostingClassifier\n",
    "clf = GradientBoostingClassifier()\n",
    "\n",
    "# k近傍法\n",
    "from sklearn.neighbors import KNeighborsClassifier\n",
    "clf = KNeighborsClassifier()\n",
    "\n",
    "# ナイーブベイズ\n",
    "from sklearn.naive_bayes import GaussianNB\n",
    "clf = GaussianNB()\n",
    "\n",
    "# 確率的勾配降下法\n",
    "from sklearn.linear_model import SGDClassifier\n",
    "clf = SGDClassifier()"
   ]
  },
  {
   "cell_type": "code",
   "execution_count": null,
   "metadata": {},
   "outputs": [],
   "source": []
  }
 ],
 "metadata": {
  "kernelspec": {
   "display_name": "Python 3",
   "language": "python",
   "name": "python3"
  },
  "language_info": {
   "codemirror_mode": {
    "name": "ipython",
    "version": 3
   },
   "file_extension": ".py",
   "mimetype": "text/x-python",
   "name": "python",
   "nbconvert_exporter": "python",
   "pygments_lexer": "ipython3",
   "version": "3.8.3"
  }
 },
 "nbformat": 4,
 "nbformat_minor": 4
}
