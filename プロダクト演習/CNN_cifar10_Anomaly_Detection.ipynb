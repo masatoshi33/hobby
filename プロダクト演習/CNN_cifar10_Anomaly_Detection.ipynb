{
 "cells": [
  {
   "cell_type": "code",
   "execution_count": 1,
   "metadata": {},
   "outputs": [],
   "source": [
    "import os\n",
    "import pickle\n",
    "import numpy as np\n",
    "import cv2\n",
    "from PIL import Image\n",
    "import matplotlib.pyplot as plt\n",
    "from scipy import ndimage, misc\n",
    "from sklearn import datasets\n",
    "from sklearn.model_selection import train_test_split\n",
    "%matplotlib inline\n",
    "# 乱数シードを指定\n",
    "np.random.seed(seed=0)"
   ]
  },
  {
   "cell_type": "code",
   "execution_count": 2,
   "metadata": {},
   "outputs": [],
   "source": [
    "#CIFAR-10のデータセットのインポート\n",
    "from keras.datasets import cifar10\n",
    "(X_train, Y_train), (X_test, Y_test) = cifar10.load_data()\n",
    "#CIFAR-10の正規化\n",
    "from keras.utils import to_categorical \n",
    "# 特徴量の正規化\n",
    "X_train = X_train/255.\n",
    "X_test = X_test/255.\n",
    "# クラスラベルの1-hotベクトル化\n",
    "Y_train = to_categorical(Y_train, 10)\n",
    "Y_test = to_categorical(Y_test, 10)"
   ]
  },
  {
   "cell_type": "code",
   "execution_count": 3,
   "metadata": {},
   "outputs": [],
   "source": [
    "#CIFAR-100のデータセットのインポート\n",
    "from keras.datasets import cifar100\n",
    "(X_train2, Y_train2), (X_test2, Y_test2) = cifar100.load_data()\n",
    "#CIFAR-100の正規化\n",
    "from keras.utils import to_categorical\n",
    "# 特徴量の正規化\n",
    "X_train2 = X_train2/255.\n",
    "X_test2 = X_test2/255.\n",
    " \n",
    "# クラスラベルの1-hotベクトル化\n",
    "Y_train2 = to_categorical(Y_train2, 100)\n",
    "Y_test2 = to_categorical(Y_test2, 100)\n",
    "\n",
    "#score2 = model.evaluate(X_test2, Y_test0)"
   ]
  },
  {
   "cell_type": "code",
   "execution_count": null,
   "metadata": {},
   "outputs": [],
   "source": [
    "# CNNの構築\n",
    "import keras\n",
    "from keras.models import Sequential\n",
    "from keras.layers.convolutional import Conv2D, MaxPooling2D\n",
    "from keras.layers.core import Dense, Dropout, Activation, Flatten\n",
    "import numpy as np\n",
    " \n",
    "model = Sequential()\n",
    " \n",
    "model.add(Conv2D(32, (3, 3), padding='same',input_shape=X_train.shape[1:]))\n",
    "model.add(Activation('relu'))\n",
    "model.add(Conv2D(32, (3, 3)))\n",
    "model.add(Activation('relu'))\n",
    "model.add(MaxPooling2D(pool_size=(2, 2)))\n",
    "model.add(Dropout(0.25))\n",
    " \n",
    "model.add(Conv2D(64, (3, 3), padding='same'))\n",
    "model.add(Activation('relu'))\n",
    "model.add(Conv2D(64, (3, 3)))\n",
    "model.add(Activation('relu'))\n",
    "model.add(MaxPooling2D(pool_size=(2, 2)))\n",
    "model.add(Dropout(0.25))\n",
    " \n",
    "model.add(Flatten())\n",
    "model.add(Dense(512))\n",
    "model.add(Activation('relu'))\n",
    "model.add(Dropout(0.5))\n",
    "model.add(Dense(10))\n",
    "model.add(Activation('softmax'))\n",
    " \n",
    "# コンパイル\n",
    "model.compile(loss='categorical_crossentropy',optimizer='SGD',metrics=['accuracy'])\n",
    " \n",
    "#訓練\n",
    "history = model.fit(X_train, Y_train, epochs=20)\n",
    "\n",
    "# モデルの保存\n",
    "model.save('./CIFAR-10.h5')"
   ]
  },
  {
   "cell_type": "code",
   "execution_count": 4,
   "metadata": {},
   "outputs": [
    {
     "name": "stdout",
     "output_type": "stream",
     "text": [
      "313/313 [==============================] - 7s 23ms/step - loss: 0.7757 - accuracy: 0.7311\n",
      "[0.775740921497345, 0.7311000227928162]\n"
     ]
    }
   ],
   "source": [
    "from keras.models import load_model\n",
    "# 保存したモデル構造の読み込み\n",
    "model=load_model('./CIFAR-10.h5')\n",
    " #評価 & 評価結果出力\n",
    "print(model.evaluate(X_test, Y_test))"
   ]
  },
  {
   "cell_type": "code",
   "execution_count": 9,
   "metadata": {},
   "outputs": [
    {
     "name": "stdout",
     "output_type": "stream",
     "text": [
      "313/313 [==============================] - 10s 32ms/step - loss: 6.4291 - accuracy: 0.0929\n",
      "[6.429050922393799, 0.09290000051259995]\n",
      "313/313 [==============================] - 8s 25ms/step - loss: 4.5705 - accuracy: 0.0832\n",
      "[4.570457935333252, 0.08320000022649765]\n"
     ]
    }
   ],
   "source": [
    "import numpy as np\n",
    "# cifar-10 : (60000, 32, 32), (60000)\n",
    "# cifar-100 : (60000, 32, 32), (60000)\n",
    "# X_test : (10000, 32, 32)\n",
    "# Y_test : (10000, 10)\n",
    "# Y_test01_10_10000 : [0.1, 0.1, 0.1, 0.1, 0.1, 0.1, 0.1, 0.1, 0.1, 0.1]  を10000個並べたもの\n",
    "Y_test01_10_10000 = np.full((10000, 10), 0.1)\n",
    "print(model.evaluate(X_test, Y_test01_10_10000))\n",
    "print(model.evaluate(X_test2, Y_test01_10_10000))"
   ]
  },
  {
   "cell_type": "code",
   "execution_count": 10,
   "metadata": {},
   "outputs": [],
   "source": [
    "# Y_test01_10ではすべてが均等な確率なので、モデルによる予測の確信が最も低いという事ができる。\n",
    "# これとのlossが少ないものほど予測の確信度が低い、\n",
    "# つまり、cifar-10の中での10クラス分類がうまくいかないと言える。これはcifar-100のデータである可能性が高い。\n",
    "# したがって、lossの値を適切に選べば精度良くcifar-100を識別する事ができる可能性がある。\n",
    "# 今回cifar-10, cifar-100のlossの平均はそれぞれ6.43, 4.57と差が小さいが、この間に境界を設定すれば分類できる可能性が高い。"
   ]
  },
  {
   "cell_type": "code",
   "execution_count": 11,
   "metadata": {},
   "outputs": [],
   "source": [
    "# y_test01_10 : 200個のデータセットに対して、[0.1, 0.1, 0.1, 0.1, 0.1, 0.1, 0.1, 0.1, 0.1, 0.1] を並べたもの。\n",
    "y_test01_10 = np.full((200, 10), 0.1)\n",
    "# x_judge : (200, 3072) : 予測精度確認用の画像の入力データセット\n",
    "x_judge = np.zeros((200, 32, 32, 3))\n",
    "# cifar-10, cifar-100からそれぞれ100ずつデータを取ってきている。\n",
    "x_judge[0:100,:,:,:] = X_test[0:100,:,:,:]\n",
    "x_judge[100:,:,:,:] = X_test2[100:200,:,:,:]\n",
    "# y_judge : (20000,) : 今回前半の100個がcifar-10(0とする)、残りの100個がcifar-100(1とする)としている。\n",
    "y_judge = np.full(200, 0)\n",
    "y_judge[100:] = np.full(100, 1)"
   ]
  },
  {
   "cell_type": "code",
   "execution_count": 32,
   "metadata": {},
   "outputs": [],
   "source": [
    "# lossがkより少ないものを1(cifar-10)、そうでないものを0(cifar-100)と予測している。\n",
    "j = np.zeros(200)\n",
    "k = 5.5\n",
    "for i in range(200) :\n",
    "    loss = model.evaluate(x_judge[i:i+1,:,:,:], y_test01_10[i:i+1,:], verbose=0)\n",
    "    if loss[0]<k:\n",
    "            j[i] =1"
   ]
  },
  {
   "cell_type": "code",
   "execution_count": 33,
   "metadata": {},
   "outputs": [
    {
     "name": "stdout",
     "output_type": "stream",
     "text": [
      "cifar-10 accracy : 0.56\n",
      "cifar-100 accracy : 0.84\n",
      "accuracy : 0.7\n"
     ]
    }
   ],
   "source": [
    "cnt_1 = 0.0\n",
    "cnt_2 = 0.0\n",
    "for i in range(100) :\n",
    "    #print(j[i])\n",
    "    #print(y_judge[i])\n",
    "    if(j[i] == y_judge[i]):\n",
    "        cnt_1+=1.0\n",
    "for i in range(100) :\n",
    "    #print(j[i+100])\n",
    "    #print(y_judge[i+100])\n",
    "    if(j[i+100] == y_judge[i+100]):\n",
    "        cnt_2+=1.0\n",
    "ans_1 = cnt_1 / 100\n",
    "ans_2 = cnt_2 / 100\n",
    "ans = (cnt_1+cnt_2) / 200\n",
    "print(\"cifar-10 accracy :\",ans_1)\n",
    "print(\"cifar-100 accracy :\",ans_2)\n",
    "print(\"accuracy :\",ans)"
   ]
  },
  {
   "cell_type": "code",
   "execution_count": 25,
   "metadata": {},
   "outputs": [],
   "source": [
    "# k = 6.0, cifar-10 accracy : 0.48, cifar-100 accracy : 0.9, accuracy : 0.69\n",
    "# k = 5.5, cifar-10 accracy : 0.56, cifar-100 accracy : 0.84, accuracy : 070\n",
    "# k = 5.0, cifar-10 accracy : 0.64, cifar-100 accracy : 0.74, accuracy : 0.69\n",
    "# k = 4.5, cifar-10 accracy : 0.75, cifar-100 accracy : 0.63, accuracy : 0.69\n",
    "# k = 4.0, cifar-10 accracy : 0.85, cifar-100 accracy : 0.43, accuracy : 0.43\n",
    "# k = 5.5が最適と言える。"
   ]
  },
  {
   "cell_type": "code",
   "execution_count": 34,
   "metadata": {},
   "outputs": [],
   "source": [
    "# 逆に[0, 0, 0, 0, 0, 0, 0, 0, 0, 1.0]のように0を9個、1.0を1個並べたものすべてとのlossを比べて、\n",
    "# これらとのlossが1つでもkより低くなるものをcifar-10だと判定し、余ったものをcifar-100と判定するという手法も考えられる。"
   ]
  },
  {
   "cell_type": "code",
   "execution_count": 46,
   "metadata": {},
   "outputs": [],
   "source": [
    "# y_test10_1 : (200, 10) : [0, 0, 0, 0, 0, 0, 0, 0, 0, 1.0]のように0を9個、1.0を1個並べたもの\n",
    "y_test10_1= np.full((200, 10), 0.0)\n",
    "# 初めにすべてを1(cifar-100)と設定する。\n",
    "j = np.full(200, 1)\n",
    "# 10個それぞれの要素の一つ一つが1.0になる場合にlossがk以下のものを0つまり(cifar-10)と適宜変えていく。\n",
    "for i_x in range(10):\n",
    "            y_test10_1[:,:]=0.0\n",
    "            y_test10_1[:,i_x] = 1.0\n",
    "            for i in range(200) :\n",
    "                loss = model.evaluate(x_judge[i:i+1,:,:,:], y_test10_1[i:i+1,:], verbose=0)\n",
    "                if loss[0]<0.6 :\n",
    "                    j[i] = 0"
   ]
  },
  {
   "cell_type": "code",
   "execution_count": 47,
   "metadata": {},
   "outputs": [
    {
     "name": "stdout",
     "output_type": "stream",
     "text": [
      "cifar-10 accracy : 0.76\n",
      "cifar-100 accracy : 0.63\n",
      "accuracy : 0.695\n"
     ]
    }
   ],
   "source": [
    "cnt_1 = 0.0\n",
    "cnt_2 = 0.0\n",
    "for i in range(100) :\n",
    "    #print(j[i])\n",
    "    #print(y_judge[i])\n",
    "    if(j[i] == y_judge[i]):\n",
    "        cnt_1+=1.0\n",
    "for i in range(100) :\n",
    "    #print(j[i+100])\n",
    "    #print(y_judge[i+100])\n",
    "    if(j[i+100] == y_judge[i+100]):\n",
    "        cnt_2+=1.0\n",
    "ans_1 = cnt_1 / 100\n",
    "ans_2 = cnt_2 / 100\n",
    "ans = (cnt_1+cnt_2) / 200\n",
    "print(\"cifar-10 accracy :\",ans_1)\n",
    "print(\"cifar-100 accracy :\",ans_2)\n",
    "print(\"accuracy :\",ans)"
   ]
  },
  {
   "cell_type": "code",
   "execution_count": 48,
   "metadata": {},
   "outputs": [],
   "source": [
    "# k = 0.3 cifar-10 accracy : 0.53, cifar-100 accracy : 0.87, accuracy : 0.70\n",
    "# k = 0.5, cifar-10 accracy : 0.70, cifar-100 accracy : 0.74, accuracy : 072\n",
    "# k = 0.6, cifar-10 accracy : 0.76, cifar-100 accracy : 0.63, accuracy : 0.695\n",
    "# k = 0.7, cifar-10 accracy : 0.79, cifar-100 accracy : 0.51, accuracy : 0.65\n",
    "# k = 0.5が最適と言える。"
   ]
  },
  {
   "cell_type": "code",
   "execution_count": 49,
   "metadata": {},
   "outputs": [],
   "source": [
    "# このモデルの精度はy_test10_1((200, 10) : [0, 0, 0, 0, 0, 0, 0, 0, 0, 1.0]のように0を9個、1.0を1個並べたもの)とのlossをk=0.5を境界に\n",
    "# 分けたものの72%が最高。\n",
    "# このモデルでは精度に限界がある。さらに精度の良いモデルを作る。"
   ]
  },
  {
   "cell_type": "code",
   "execution_count": null,
   "metadata": {},
   "outputs": [],
   "source": [
    "# CNNの構築\n",
    "import keras\n",
    "from keras.models import Sequential\n",
    "from keras.layers.convolutional import Conv2D, MaxPooling2D\n",
    "from keras.layers.core import Dense, Dropout, Activation, Flatten\n",
    "from keras.layers import GlobalAveragePooling2D\n",
    "from keras.layers.normalization import BatchNormalization\n",
    "import numpy as np\n",
    " \n",
    "model = Sequential()\n",
    " \n",
    "model.add(Conv2D(32, (3, 3), padding='same',input_shape=X_train.shape[1:]))\n",
    "model.add(Activation('relu'))\n",
    "model.add(BatchNormalization())\n",
    "model.add(Conv2D(32, (3, 3)))\n",
    "model.add(Activation('relu'))\n",
    "model.add(MaxPooling2D(pool_size=(2, 2)))\n",
    "model.add(Dropout(0.25))\n",
    " \n",
    "model.add(Conv2D(64, (3, 3), padding='same'))\n",
    "model.add(Activation('relu'))\n",
    "model.add(BatchNormalization())\n",
    "model.add(Conv2D(64, (3, 3)))\n",
    "model.add(Activation('relu'))\n",
    "model.add(MaxPooling2D(pool_size=(2, 2)))\n",
    "model.add(Dropout(0.25))\n",
    "\n",
    "model.add(Conv2D(128, (3, 3), padding='same'))\n",
    "model.add(Activation('relu'))\n",
    "model.add(Conv2D(128, (3, 3), padding='same'))\n",
    "model.add(Activation('relu'))\n",
    "model.add(MaxPooling2D(pool_size=(2, 2)))\n",
    "model.add(Dropout(0.25))\n",
    "\n",
    "model.add(Conv2D(256, (3, 3), padding='same'))\n",
    "model.add(Activation('relu'))\n",
    "model.add(Conv2D(256, (3, 3), padding='same'))\n",
    "model.add(Activation('relu'))\n",
    "model.add(BatchNormalization())\n",
    "\n",
    "model.add(Conv2D(512, (3, 3), padding='same'))\n",
    "model.add(Activation('relu'))\n",
    "model.add(Conv2D(512, (3, 3), padding='same'))\n",
    "model.add(Activation('relu'))\n",
    "model.add(GlobalAveragePooling2D())\n",
    "\n",
    "model.add(Flatten())\n",
    "model.add(Dense(1024))\n",
    "model.add(Activation('relu'))\n",
    "model.add(Dropout(0.5))\n",
    "model.add(Dense(10))\n",
    "model.add(Activation('softmax'))\n",
    "\n",
    "# コンパイル\n",
    "model.compile(loss='categorical_crossentropy',optimizer='SGD',metrics=['accuracy'])\n",
    " \n",
    "#訓練\n",
    "history = model.fit(X_train, Y_train, epochs=50)\n",
    "\n",
    "# モデルの保存\n",
    "model.save('./CIFAR-10_4.h5')\n",
    "\n",
    "# 工夫\n",
    "# 1. 層を厚くした。4層しかなかったConv2D層を10個に増やし、適宜正規化用のDropout()やBatchNormalization(),\n",
    "# GlobalAveragePooling2D()などを加えた。\n",
    "# 2. エポック数を増やした。"
   ]
  },
  {
   "cell_type": "code",
   "execution_count": 51,
   "metadata": {},
   "outputs": [
    {
     "name": "stdout",
     "output_type": "stream",
     "text": [
      "313/313 [==============================] - 26s 84ms/step - loss: 0.5608 - accuracy: 0.8437\n",
      "[0.5608178973197937, 0.8436999917030334]\n"
     ]
    }
   ],
   "source": [
    "# 保存したモデル構造の読み込み\n",
    "model=load_model('./CIFAR-10_4.h5')\n",
    "#評価 & 評価結果出力\n",
    "print(model.evaluate(X_test, Y_test))"
   ]
  },
  {
   "cell_type": "code",
   "execution_count": 52,
   "metadata": {},
   "outputs": [],
   "source": [
    "# 精度が84%に(11%向上)"
   ]
  },
  {
   "cell_type": "code",
   "execution_count": 53,
   "metadata": {},
   "outputs": [
    {
     "name": "stdout",
     "output_type": "stream",
     "text": [
      "313/313 [==============================] - 22s 70ms/step - loss: 11.6481 - accuracy: 0.1011\n",
      "[11.648058891296387, 0.10109999775886536]\n",
      "313/313 [==============================] - 25s 81ms/step - loss: 6.8170 - accuracy: 0.0992\n",
      "[6.817044734954834, 0.09920000284910202]\n"
     ]
    }
   ],
   "source": [
    "import numpy as np\n",
    "# cifar-10 : (60000, 32, 32), (60000)\n",
    "# cifar-100 : (60000, 32, 32), (60000)\n",
    "# X_test : (10000, 32, 32)\n",
    "# Y_test : (10000, 10)\n",
    "# Y_test01_10_10000 : [0.1, 0.1, 0.1, 0.1, 0.1, 0.1, 0.1, 0.1, 0.1, 0.1]  を10000個並べたもの\n",
    "Y_test01_10_10000 = np.full((10000, 10), 0.1)\n",
    "print(model.evaluate(X_test, Y_test01_10_10000))\n",
    "print(model.evaluate(X_test2, Y_test01_10_10000))"
   ]
  },
  {
   "cell_type": "code",
   "execution_count": 54,
   "metadata": {},
   "outputs": [],
   "source": [
    "# 今回cifar-10, cifar-100のlossの平均はそれぞれ11.65, 6.82と差が大きくなった。この間に境界を設定すれば分類できる可能性が高い。"
   ]
  },
  {
   "cell_type": "code",
   "execution_count": 66,
   "metadata": {},
   "outputs": [],
   "source": [
    "# lossがkより少ないものを1(cifar-10)、そうでないものを0(cifar-100)と予測している。\n",
    "j = np.zeros(200)\n",
    "k = 8.0\n",
    "for i in range(200) :\n",
    "    loss = model.evaluate(x_judge[i:i+1,:,:,:], y_test01_10[i:i+1,:], verbose=0)\n",
    "    if loss[0]<k:\n",
    "            j[i] =1"
   ]
  },
  {
   "cell_type": "code",
   "execution_count": 67,
   "metadata": {},
   "outputs": [
    {
     "name": "stdout",
     "output_type": "stream",
     "text": [
      "cifar-10 accracy : 0.67\n",
      "cifar-100 accracy : 0.8\n",
      "accuracy : 0.735\n"
     ]
    }
   ],
   "source": [
    "cnt_1 = 0.0\n",
    "cnt_2 = 0.0\n",
    "for i in range(100) :\n",
    "    #print(j[i])\n",
    "    #print(y_judge[i])\n",
    "    if(j[i] == y_judge[i]):\n",
    "        cnt_1+=1.0\n",
    "for i in range(100) :\n",
    "    #print(j[i+100])\n",
    "    #print(y_judge[i+100])\n",
    "    if(j[i+100] == y_judge[i+100]):\n",
    "        cnt_2+=1.0\n",
    "ans_1 = cnt_1 / 100\n",
    "ans_2 = cnt_2 / 100\n",
    "ans = (cnt_1+cnt_2) / 200\n",
    "print(\"cifar-10 accracy :\",ans_1)\n",
    "print(\"cifar-100 accracy :\",ans_2)\n",
    "print(\"accuracy :\",ans)"
   ]
  },
  {
   "cell_type": "code",
   "execution_count": 68,
   "metadata": {},
   "outputs": [],
   "source": [
    "# k = 5.5, cifar-10 accracy : 0.93, cifar-100 accracy : 0.35, accuracy : 0.64\n",
    "# k = 7.0, cifar-10 accracy : 0.84 cifar-100 accracy : 0.68, accuracy : 0.76\n",
    "# k = 7.5, cifar-10 accracy : 0.76 cifar-100 accracy : 0.77, accuracy : 0.765\n",
    "# k = 8.0, cifar-10 accracy : 0.75 cifar-100 accracy : 0.79, accuracy : 0.77\n",
    "# k = 8.5, cifar-10 accracy : 0.67 cifar-100 accracy : 0.80, accuracy : 0.735\n",
    "# k = 9.0, cifar-10 accracy : 0.63cifar-100 accracy : 0.81 accuracy : 0.72\n",
    "#k = 8.0が最適"
   ]
  },
  {
   "cell_type": "code",
   "execution_count": 86,
   "metadata": {},
   "outputs": [],
   "source": [
    "# y_test10_1 : (200, 10) : [0, 0, 0, 0, 0, 0, 0, 0, 0, 1.0]のように0を9個、1.0を1個並べたもの\n",
    "y_test10_1= np.full((200, 10), 0.0)\n",
    "# 初めにすべてを1(cifar-100)と設定する。\n",
    "j = np.full(200, 1)\n",
    "k = 0.02\n",
    "# 10個それぞれの要素の一つ一つが1.0になる場合にlossがk以下のものを0つまり(cifar-10)と適宜変えていく。\n",
    "for i_x in range(10):\n",
    "            y_test10_1[:,:]=0.0\n",
    "            y_test10_1[:,i_x] = 1.0\n",
    "            for i in range(200) :\n",
    "                loss = model.evaluate(x_judge[i:i+1,:,:,:], y_test10_1[i:i+1,:], verbose=0)\n",
    "                if loss[0]<k :\n",
    "                    j[i] = 0"
   ]
  },
  {
   "cell_type": "code",
   "execution_count": 87,
   "metadata": {},
   "outputs": [
    {
     "name": "stdout",
     "output_type": "stream",
     "text": [
      "cifar-10 accracy : 0.63\n",
      "cifar-100 accracy : 0.87\n",
      "accuracy : 0.75\n"
     ]
    }
   ],
   "source": [
    "cnt_1 = 0.0\n",
    "cnt_2 = 0.0\n",
    "for i in range(100) :\n",
    "    #print(j[i])\n",
    "    #print(y_judge[i])\n",
    "    if(j[i] == y_judge[i]):\n",
    "        cnt_1+=1.0\n",
    "for i in range(100) :\n",
    "    #print(j[i+100])\n",
    "    #print(y_judge[i+100])\n",
    "    if(j[i+100] == y_judge[i+100]):\n",
    "        cnt_2+=1.0\n",
    "ans_1 = cnt_1 / 100\n",
    "ans_2 = cnt_2 / 100\n",
    "ans = (cnt_1+cnt_2) / 200\n",
    "print(\"cifar-10 accracy :\",ans_1)\n",
    "print(\"cifar-100 accracy :\",ans_2)\n",
    "print(\"accuracy :\",ans)"
   ]
  },
  {
   "cell_type": "code",
   "execution_count": 81,
   "metadata": {},
   "outputs": [],
   "source": [
    "# k = 0.01, cifar-10 accracy : 0.56, cifar-100 accracy : 0.91, accuracy : 0.735\n",
    "# k = 0.02, cifar-10 accracy : 0.63, cifar-100 accracy : 0.87, accuracy : 0.75\n",
    "# k = 0.03, cifar-10 accracy : 0.69, cifar-100 accracy : 0.86, accuracy : 0.775\n",
    "# k = 0.05, cifar-10 accracy : 0.71, cifar-100 accracy : 0.77, accuracy : 0.74\n",
    "# k = 0.1, cifar-10 accracy : 0.76, cifar-100 accracy : 0.62, accuracy : 0.69\n",
    "# k = 0.2, cifar-10 accracy : 0.85, cifar-100 accracy : 0.5, accuracy : 0.675\n",
    "# k = 0.5, cifar-10 accracy : 0.95, cifar-100 accracy : 0.26, accuracy : 0.605\n",
    "# k = 0.6, cifar-10 accracy : 0.96, cifar-100 accracy : 0.24, accuracy : 0.60\n",
    "# k = 0.03が最適と言える。"
   ]
  },
  {
   "cell_type": "code",
   "execution_count": 82,
   "metadata": {},
   "outputs": [],
   "source": [
    "# このモデルの精度はy_test01_10([0.1, 0.1, 0.1, 0.1, 0.1, 0.1, 0.1, 0.1, 0.1, 0.1] を200個並べたもの)とのlossをk=8.0を境界に\n",
    "# 分けたものの77%または、y_test10_1((200, 10) : [0, 0, 0, 0, 0, 0, 0, 0, 0, 1.0]のように0を9個、1.0を1個並べたものを200個並べたもの)\n",
    "# とのlossをk=0.03を境界に分けたものの77.5%が最高。(5.5%の精度向上が見られた。)\n",
    "# この2つをcifar-10, 100の全てのテストケースに試して精度を確かめる。"
   ]
  },
  {
   "cell_type": "code",
   "execution_count": 90,
   "metadata": {},
   "outputs": [],
   "source": [
    "# y_test01_10_20000 : 20000個のデータセットに対して、[0.1, 0.1, 0.1, 0.1, 0.1, 0.1, 0.1, 0.1, 0.1, 0.1] を並べたもの。\n",
    "y_test01_10_20000 = np.full((20000, 10), 0.1)\n",
    "# x_judge2 : (20000, 3072) : 予測精度確認用の画像の入力データセット\n",
    "x_judge2 = np.zeros((20000, 32, 32, 3))\n",
    "# cifar-10, cifar-100からそれぞれ100ずつデータを取ってきている。\n",
    "x_judge2[0:10000,:,:,:] = X_test\n",
    "x_judge2[10000:,:,:,:] = X_test2\n",
    "# y_judge2 : (20000,) : 今回前半の100個がcifar-10(0とする)、残りの100個がcifar-100(1とする)としている。\n",
    "y_judge2 = np.full(20000, 0)\n",
    "y_judge2[10000:] = np.full(10000, 1)"
   ]
  },
  {
   "cell_type": "code",
   "execution_count": null,
   "metadata": {},
   "outputs": [],
   "source": [
    "# lossがkより少ないものを1(cifar-10)、そうでないものを0(cifar-100)と予測している。\n",
    "j = np.zeros(20000)\n",
    "k = 9.0\n",
    "for i in range(20000) :\n",
    "    loss = model.evaluate(x_judge2[i:i+1,:,:,:], y_test01_10_20000[i:i+1,:], verbose=0)\n",
    "    if loss[0]<k:\n",
    "            j[i] =1"
   ]
  },
  {
   "cell_type": "code",
   "execution_count": null,
   "metadata": {},
   "outputs": [],
   "source": [
    "cnt_1 = 0.0\n",
    "cnt_2 = 0.0\n",
    "for i in range(10000) :\n",
    "    #print(j[i])\n",
    "    #print(y_judge[i])\n",
    "    if(j[i] == y_judge2[i]):\n",
    "        cnt_1+=1.0\n",
    "for i in range(10000) :\n",
    "    #print(j[i+100])\n",
    "    #print(y_judge[i+100])\n",
    "    if(j[i+10000] == y_judge2[i+10000]):\n",
    "        cnt_2+=1.0\n",
    "ans_1 = cnt_1 / 10000\n",
    "ans_2 = cnt_2 / 10000\n",
    "ans = (cnt_1+cnt_2) / 20000\n",
    "print(\"cifar-10 accracy :\",ans_1)\n",
    "print(\"cifar-100 accracy :\",ans_2)\n",
    "print(\"accuracy :\",ans)"
   ]
  },
  {
   "cell_type": "code",
   "execution_count": null,
   "metadata": {},
   "outputs": [],
   "source": [
    "# k = 7.5, cifar-10 : 0.7759, cifar-100 : 0.69, accuracy : 0.73295\n",
    "# k = 8.0, cifar-10 : 0.7336, cifar-100 : 0.7555, accuracy : 0.74455\n",
    "# k = 8.5, cifar-10 : 0.6881, cifar-100 : 0.8105, accuracy : 0.7493"
   ]
  },
  {
   "cell_type": "code",
   "execution_count": 99,
   "metadata": {},
   "outputs": [],
   "source": [
    "# y_test10_1_20000 : (20000, 10) ([0, 0, 0, 0, 0, 0, 0, 0, 0, 1.0]のように0を9個、1.0を1個並べたものを20000個並べたもの)\n",
    "y_test10_1_20000 = np.full((20000, 10), 0.0)\n",
    "# 初めにすべてを1(cifar-100)と設定する。\n",
    "j = np.full(20000, 1)\n",
    "# 10個それぞれの要素の一つ一つが1.0になる場合にlossがk以下のものを0つまり(cifar-10)と適宜変えていく。\n",
    "for i_x in range(10):\n",
    "            y_test10_1_20000[:,:]=0.0\n",
    "            y_test10_1_20000[:,i_x] = 1.0\n",
    "            for i in range(20000) :\n",
    "                loss = model.evaluate(x_judge2[i:i+1,:,:,:], y_test10_1_20000[i:i+1,:], verbose=0)\n",
    "                if loss[0]<0.03 :\n",
    "                    j[i] = 0"
   ]
  },
  {
   "cell_type": "code",
   "execution_count": 101,
   "metadata": {},
   "outputs": [
    {
     "name": "stdout",
     "output_type": "stream",
     "text": [
      "cifar-10 accracy : 0.676\n",
      "cifar-100 accracy : 0.7764\n",
      "accuracy : 0.7262\n"
     ]
    }
   ],
   "source": [
    "cnt_1 = 0.0\n",
    "cnt_2 = 0.0\n",
    "for i in range(10000) :\n",
    "    #print(j[i])\n",
    "    #print(y_judge[i])\n",
    "    if(j[i] == y_judge2[i]):\n",
    "        cnt_1+=1.0\n",
    "for i in range(10000) :\n",
    "    #print(j[i+10000])\n",
    "    #print(y_judge[i+10000])\n",
    "    if(j[i+10000] == y_judge2[i+10000]):\n",
    "        cnt_2+=1.0\n",
    "ans_1 = cnt_1 / 10000\n",
    "ans_2 = cnt_2 / 10000\n",
    "ans = (cnt_1+cnt_2) / 20000\n",
    "print(\"cifar-10 accracy :\",ans_1)\n",
    "print(\"cifar-100 accracy :\",ans_2)\n",
    "print(\"accuracy :\",ans)"
   ]
  },
  {
   "cell_type": "code",
   "execution_count": 104,
   "metadata": {},
   "outputs": [],
   "source": [
    "# k = 0.03, cifar-10 : 0.676, cifar-100 : 0.7764, accuracy : 0.7262\n",
    "# 時間がかかり過ぎる上に見込みがないので割愛"
   ]
  },
  {
   "cell_type": "code",
   "execution_count": null,
   "metadata": {},
   "outputs": [],
   "source": [
    "# このモデルの精度はy_test01_10_20000 ([0.1, 0.1, 0.1, 0.1, 0.1, 0.1, 0.1, 0.1, 0.1, 0.1] を20000個並べたもの)とのlossをk=8.5を境界に\n",
    "# 分けて、大きいものをcifar-100、小さいものをcifar-10とすることによって74.9%の精度を達成する事ができた。"
   ]
  }
 ],
 "metadata": {
  "kernelspec": {
   "display_name": "Python 3",
   "language": "python",
   "name": "python3"
  },
  "language_info": {
   "codemirror_mode": {
    "name": "ipython",
    "version": 3
   },
   "file_extension": ".py",
   "mimetype": "text/x-python",
   "name": "python",
   "nbconvert_exporter": "python",
   "pygments_lexer": "ipython3",
   "version": "3.8.3"
  }
 },
 "nbformat": 4,
 "nbformat_minor": 4
}
